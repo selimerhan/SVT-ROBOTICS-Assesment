{
 "cells": [
  {
   "cell_type": "code",
   "execution_count": 1,
   "id": "60c42ec9",
   "metadata": {},
   "outputs": [
    {
     "data": {
      "text/plain": [
       "'{\"robotId:\": 87, \"distanceToGoal:\": 6, \"batteryLevel:\": 98}'"
      ]
     },
     "execution_count": 1,
     "metadata": {},
     "output_type": "execute_result"
    }
   ],
   "source": [
    "# Selimhan Erhan \n",
    "\n",
    "import pandas as pd\n",
    "import math\n",
    "import json\n",
    "\n",
    "dicts = {}\n",
    "dictsTen = {}\n",
    "dictS = {}\n",
    "def myFunction(locationX, locationY, url):\n",
    "    myData = pd.read_json(url)\n",
    "    for n in range(100):\n",
    "        runAll = myData.iloc[n]\n",
    "        currentX = runAll['x']\n",
    "        # gets the x value\n",
    "        currentY = runAll['y']\n",
    "        # gets the y value\n",
    "        \n",
    "        # mathematical expression for finding the distance\n",
    "        distX = currentX - locationX\n",
    "        distY = currentY - locationY\n",
    "        distance = pow(distX,2) + pow(distY,2)\n",
    "        distanceToGoal = math.sqrt(distance)\n",
    "        dicts[n] = distanceToGoal\n",
    "        # add distance to goal to the map\n",
    "        \n",
    "        if dicts[n] < 10:\n",
    "            dictsTen[n] = dicts[n]\n",
    "            # add the robots that has less than 10 distance\n",
    "    def getList(dict):\n",
    "        return dict.keys()\n",
    "    \n",
    "    for number in (getList(dictsTen)):\n",
    "        runBattery = myData.iloc[number]\n",
    "        battery = runBattery['batteryLevel']\n",
    "        dictS[number] = battery\n",
    "    \n",
    "    maxBattery = max(dictS.values())\n",
    "    \n",
    "    finalKey = [y for y, z in dictS.items() if z == maxBattery][0]\n",
    "    \n",
    "    final = myData.iloc[finalKey]\n",
    "    finalBattery = final['batteryLevel']\n",
    "    finalDistance = dictsTen.get(finalKey)\n",
    "    \n",
    "    finalAnswer = {'robotId:':int(finalKey),\n",
    "                   'distanceToGoal:':int(finalDistance),\n",
    "                   'batteryLevel:':int(finalBattery)\n",
    "                  }\n",
    "    jsonString = json.dumps(finalAnswer)\n",
    "    return jsonString\n",
    "myFunction(13,31,\"https://60c8ed887dafc90017ffbd56.mockapi.io/robots\")\n",
    "        "
   ]
  },
  {
   "cell_type": "code",
   "execution_count": null,
   "id": "25934297",
   "metadata": {},
   "outputs": [],
   "source": []
  }
 ],
 "metadata": {
  "kernelspec": {
   "display_name": "Python 3 (ipykernel)",
   "language": "python",
   "name": "python3"
  },
  "language_info": {
   "codemirror_mode": {
    "name": "ipython",
    "version": 3
   },
   "file_extension": ".py",
   "mimetype": "text/x-python",
   "name": "python",
   "nbconvert_exporter": "python",
   "pygments_lexer": "ipython3",
   "version": "3.9.7"
  }
 },
 "nbformat": 4,
 "nbformat_minor": 5
}
